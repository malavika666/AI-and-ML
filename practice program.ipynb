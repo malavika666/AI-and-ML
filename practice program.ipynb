{
 "cells": [
  {
   "cell_type": "code",
   "execution_count": 1,
   "id": "2c868614",
   "metadata": {},
   "outputs": [
    {
     "name": "stdout",
     "output_type": "stream",
     "text": [
      "enter a number:25\n",
      "square root: 5.0\n"
     ]
    }
   ],
   "source": [
    "number=int(input(\"enter a number:\"))\n",
    "sqrt=number**0.5\n",
    "print(\"square root:\",sqrt)"
   ]
  },
  {
   "cell_type": "code",
   "execution_count": 2,
   "id": "49e5cdf0",
   "metadata": {},
   "outputs": [
    {
     "name": "stdout",
     "output_type": "stream",
     "text": [
      "Enter a: 2\n",
      "Enter b: 4\n",
      "Enter c: 8\n",
      "The solution are (-1-1.7320508075688772j) and (-1+1.7320508075688772j)\n"
     ]
    }
   ],
   "source": [
    "import cmath  \n",
    "a = float(input('Enter a: '))  \n",
    "b = float(input('Enter b: '))  \n",
    "c = float(input('Enter c: '))  \n",
    "  \n",
    "# calculate the discriminant  \n",
    "d = (b**2) - (4*a*c)  \n",
    "  \n",
    "# find two solutions  \n",
    "sol1 = (-b-cmath.sqrt(d))/(2*a)  \n",
    "sol2 = (-b+cmath.sqrt(d))/(2*a)  \n",
    "print('The solution are {0} and {1}'.format(sol1,sol2))   "
   ]
  },
  {
   "cell_type": "code",
   "execution_count": 4,
   "id": "f8907fea",
   "metadata": {},
   "outputs": [
    {
     "name": "stdout",
     "output_type": "stream",
     "text": [
      "Please enter value for A: 2000\n",
      "Please enter value for B: 1000\n",
      "The Value of A after swapping:  1000\n",
      "The Value of B after swapping:  2000\n"
     ]
    }
   ],
   "source": [
    "A = int( input(\"Please enter value for A: \"))  \n",
    "B = int( input(\"Please enter value for B: \"))  \n",
    "   \n",
    "# To swap the value of two variables  \n",
    "# we will user third variable which is a temporary variable  \n",
    "temp_1 = A  \n",
    "A = B  \n",
    "B = temp_1  \n",
    "   \n",
    "print (\"The Value of A after swapping: \", A)  \n",
    "print (\"The Value of B after swapping: \", B)  "
   ]
  },
  {
   "cell_type": "code",
   "execution_count": 5,
   "id": "78f64d2c",
   "metadata": {},
   "outputs": [
    {
     "name": "stdout",
     "output_type": "stream",
     "text": [
      "Enter lower range: 100\n",
      "Enter upper range: 500\n",
      "125\n",
      "153\n",
      "216\n",
      "370\n",
      "371\n",
      "407\n"
     ]
    }
   ],
   "source": [
    "lower = int(input(\"Enter lower range: \"))  \n",
    "upper = int(input(\"Enter upper range: \"))  \n",
    "  \n",
    "for num in range(lower,upper + 1):  \n",
    "   sum = 0  \n",
    "   temp = num  \n",
    "   while temp > 0:  \n",
    "       digit = temp % 10  \n",
    "       sum += digit ** 3  \n",
    "       temp //= 10  \n",
    "       if num == sum:  \n",
    "            print(num)  "
   ]
  },
  {
   "cell_type": "code",
   "execution_count": 6,
   "id": "8a03452b",
   "metadata": {},
   "outputs": [
    {
     "name": "stdout",
     "output_type": "stream",
     "text": [
      "Enter the first number: 10\n",
      "Enter the second number: 40\n",
      "GCD of two number is: \n",
      "10\n"
     ]
    }
   ],
   "source": [
    "# write a program to understand the GCD of two number in python using the recursion.  \n",
    "def gcd_fun (x, y):  \n",
    "    if (y == 0): # it divide every number  \n",
    "        return x  # return x  \n",
    "    else:  \n",
    "        return gcd_fun (y, x % y)  \n",
    "x =int (input (\"Enter the first number: \")) # take first no.   \n",
    "y =int (input (\"Enter the second number: \")) # take second no.   \n",
    "num = gcd_fun(x, y) # call the gcd_fun() to find the result  \n",
    "print(\"GCD of two number is: \")  \n",
    "print(num) # call num  "
   ]
  },
  {
   "cell_type": "code",
   "execution_count": 7,
   "id": "f8116c18",
   "metadata": {},
   "outputs": [
    {
     "name": "stdout",
     "output_type": "stream",
     "text": [
      "Enter first number: 20\n",
      "Enter second number: 50\n",
      "The H.C.F. of 20 and 50 is 10\n"
     ]
    }
   ],
   "source": [
    "# defining a function to calculate HCF  \n",
    "def calculate_hcf(x, y):  \n",
    "    # selecting the smaller number  \n",
    "    if x > y:  \n",
    "        smaller = y  \n",
    "    else:  \n",
    "        smaller = x  \n",
    "    for i in range(1,smaller + 1):  \n",
    "        if((x % i == 0) and (y % i == 0)):  \n",
    "            hcf = i  \n",
    "    return hcf  \n",
    "  \n",
    "# taking input from users  \n",
    "num1 = int(input(\"Enter first number: \"))  \n",
    "num2 = int(input(\"Enter second number: \"))  \n",
    "# printing the result for the users  \n",
    "print(\"The H.C.F. of\", num1,\"and\", num2,\"is\", calculate_hcf(num1, num2))  "
   ]
  },
  {
   "cell_type": "code",
   "execution_count": 8,
   "id": "62eb7e74",
   "metadata": {},
   "outputs": [
    {
     "name": "stdout",
     "output_type": "stream",
     "text": [
      "Enter first number: 10\n",
      "Enter second number: 20\n",
      "The L.C.M. of 10 and 20 is 20\n"
     ]
    }
   ],
   "source": [
    "# defining a function to calculate LCM  \n",
    "def calculate_lcm(x, y):  \n",
    "    # selecting the greater number  \n",
    "    if x > y:  \n",
    "        greater = x  \n",
    "    else:  \n",
    "        greater = y  \n",
    "    while(True):  \n",
    "        if((greater % x == 0) and (greater % y == 0)):  \n",
    "            lcm = greater  \n",
    "            break  \n",
    "        greater += 1  \n",
    "    return lcm    \n",
    "  \n",
    "# taking input from users  \n",
    "num1 = int(input(\"Enter first number: \"))  \n",
    "num2 = int(input(\"Enter second number: \"))  \n",
    "# printing the result for the users  \n",
    "print(\"The L.C.M. of\", num1,\"and\", num2,\"is\", calculate_lcm(num1, num2))  "
   ]
  },
  {
   "cell_type": "code",
   "execution_count": 9,
   "id": "4f2e68b9",
   "metadata": {},
   "outputs": [
    {
     "name": "stdout",
     "output_type": "stream",
     "text": [
      "Result matrix is\n",
      "1  2  3  \n",
      "1  2  3  \n",
      "1  2  3  \n",
      "1  2  3  \n"
     ]
    }
   ],
   "source": [
    "# Python3 Program to find\n",
    "# transpose of a matrix\n",
    " \n",
    "M = 3\n",
    "N = 4\n",
    " \n",
    "# This function stores\n",
    "# transpose of A[][] in B[][]\n",
    " \n",
    "def transpose(A, B):\n",
    " \n",
    " for i in range(N):\n",
    "  for j in range(M):\n",
    "   B[i][j] = A[j][i]\n",
    " \n",
    "# driver code\n",
    "A = [ [1, 1, 1, 1],\n",
    " [2, 2, 2, 2],\n",
    " [3, 3, 3, 3]]\n",
    " \n",
    " \n",
    "# To store result\n",
    "B = [[0 for x in range(M)] for y in range(N)]\n",
    " \n",
    "transpose(A, B)\n",
    " \n",
    "print(\"Result matrix is\")\n",
    "for i in range(N):\n",
    " for j in range(M):\n",
    "  print(B[i][j], \" \", end='')\n",
    " print() "
   ]
  },
  {
   "cell_type": "code",
   "execution_count": 10,
   "id": "73c37c8b",
   "metadata": {},
   "outputs": [
    {
     "name": "stdout",
     "output_type": "stream",
     "text": [
      "[10, 10, 10]\n",
      "[10, 10, 10]\n",
      "[10, 10, 10]\n"
     ]
    }
   ],
   "source": [
    "# Program to add two matrices \n",
    " \n",
    "X = [[1,2,3],\n",
    "    [4 ,5,6],\n",
    "    [7 ,8,9]]\n",
    " \n",
    "Y = [[9,8,7],\n",
    "    [6,5,4],\n",
    "    [3,2,1]]\n",
    " \n",
    " \n",
    "result = [[0,0,0],\n",
    "        [0,0,0],\n",
    "        [0,0,0]]\n",
    " \n",
    "# iterate through rows\n",
    "for i in range(len(X)):  \n",
    "# iterate through columns\n",
    "    for j in range(len(X[0])):\n",
    "        result[i][j] = X[i][j] + Y[i][j]\n",
    " \n",
    "for r in result:\n",
    "    print(r)"
   ]
  },
  {
   "cell_type": "code",
   "execution_count": 11,
   "id": "cce1a3ac",
   "metadata": {},
   "outputs": [
    {
     "name": "stdout",
     "output_type": "stream",
     "text": [
      "[1, 2, 3, 4, 5, 6]\n",
      "[(1, 'A'), (2, 'J'), (3, 'c'), (4, 'P'), (5, 's'), (6, 'R')]\n"
     ]
    }
   ],
   "source": [
    "names = {1:'A' ,2:'J' ,4:'P' ,3:'c' ,6:'R' ,5:'s' }  \n",
    "#print a sorted list of the keys  \n",
    "print(sorted(names.keys()))  \n",
    "#print the sorted list with items.  \n",
    "print(sorted(names.items()))  "
   ]
  },
  {
   "cell_type": "code",
   "execution_count": 12,
   "id": "9d692808",
   "metadata": {},
   "outputs": [
    {
     "name": "stdout",
     "output_type": "stream",
     "text": [
      "2018-12-04 10:07:00\n"
     ]
    }
   ],
   "source": [
    "import datetime\n",
    " \n",
    "# Function to convert string to datetime\n",
    "def convert(date_time):\n",
    "    format = '%b %d %Y %I:%M%p'  # The format\n",
    "    datetime_str = datetime.datetime.strptime(date_time, format)\n",
    " \n",
    "    return datetime_str\n",
    " \n",
    " \n",
    "# Driver code\n",
    "date_time = 'Dec 4 2018 10:07AM'\n",
    "print(convert(date_time))"
   ]
  },
  {
   "cell_type": "code",
   "execution_count": 13,
   "id": "342dbc3d",
   "metadata": {},
   "outputs": [
    {
     "name": "stdout",
     "output_type": "stream",
     "text": [
      "1\n",
      "2\n",
      "3\n",
      "List after appending element :  ['1', '2', '3', ['4', '5', '6', '7']]\n"
     ]
    }
   ],
   "source": [
    "# Python list append() Method  \n",
    "# Creating a list  \n",
    "list = ['1','2','3']  \n",
    "for l in list:  # Iterating list  \n",
    "    print(l)  \n",
    "# Appending a list to the list  \n",
    "list2 = ['4','5','6','7']  \n",
    "list.append(list2)    \n",
    "print(\"List after appending element : \", list)"
   ]
  },
  {
   "cell_type": "code",
   "execution_count": 14,
   "id": "1303ef35",
   "metadata": {},
   "outputs": [
    {
     "name": "stdout",
     "output_type": "stream",
     "text": [
      "Enter the integer number: 1234\n",
      "The reverse number is : 4321\n"
     ]
    }
   ],
   "source": [
    "# Ask for enter the number from the use  \n",
    "number = int(input(\"Enter the integer number: \"))  \n",
    "  \n",
    "# Initiate value to null  \n",
    "revs_number = 0  \n",
    "  \n",
    "# reverse the integer number using the while loop  \n",
    "  \n",
    "while (number > 0):  \n",
    "    # Logic  \n",
    "    remainder = number % 10  \n",
    "    revs_number = (revs_number * 10) + remainder  \n",
    "    number = number // 10  \n",
    "  \n",
    "# Display the result  \n",
    "print(\"The reverse number is : {}\".format(revs_number))  "
   ]
  },
  {
   "cell_type": "code",
   "execution_count": 15,
   "id": "16f7f448",
   "metadata": {},
   "outputs": [
    {
     "name": "stdout",
     "output_type": "stream",
     "text": [
      "Answer = 81\n"
     ]
    }
   ],
   "source": [
    "base = 3\n",
    "exponent = 4\n",
    "\n",
    "result = 1\n",
    "\n",
    "while exponent != 0:\n",
    "    result *= base\n",
    "    exponent-=1\n",
    "\n",
    "print(\"Answer = \" + str(result))\n"
   ]
  },
  {
   "cell_type": "code",
   "execution_count": 16,
   "id": "d5695c52",
   "metadata": {},
   "outputs": [
    {
     "name": "stdout",
     "output_type": "stream",
     "text": [
      "Enter the time in seconds: 20\n",
      "STOP1\n"
     ]
    }
   ],
   "source": [
    "# import the time module\n",
    "import time\n",
    "  \n",
    "# define the countdown func.\n",
    "def countdown(t):\n",
    "    \n",
    "    while t:\n",
    "        mins, secs = divmod(t, 60)\n",
    "        timer = '{:02d}:{:02d}'.format(mins, secs)\n",
    "        print(timer, end=\"\\r\")\n",
    "        time.sleep(1)\n",
    "        t -= 1\n",
    "      \n",
    "    print('STOP')\n",
    "  \n",
    "  \n",
    "# input time in seconds\n",
    "t = input(\"Enter the time in seconds: \")\n",
    "  \n",
    "# function call\n",
    "countdown(int(t))"
   ]
  },
  {
   "cell_type": "code",
   "execution_count": 17,
   "id": "4f7925ed",
   "metadata": {},
   "outputs": [
    {
     "name": "stdout",
     "output_type": "stream",
     "text": [
      "\n",
      "Input:\n",
      "b'HELLOWORLD'\n",
      "<class 'bytes'>\n",
      "\n",
      "Output:\n",
      "HELLOWORLD\n",
      "<class 'str'>\n"
     ]
    }
   ],
   "source": [
    "\n",
    "# to string using decode()\n",
    " \n",
    "data = b'HELLOWORLD'\n",
    " \n",
    "# display input\n",
    "print('\\nInput:')\n",
    "print(data)\n",
    "print(type(data))\n",
    " \n",
    "# converting\n",
    "output = data.decode()\n",
    " \n",
    "# display output\n",
    "print('\\nOutput:')\n",
    "print(output)\n",
    "print(type(output))"
   ]
  },
  {
   "cell_type": "code",
   "execution_count": 27,
   "id": "3f8c3e49",
   "metadata": {},
   "outputs": [],
   "source": [
    "# Python program to merge two files \n",
    "data = data2 = \"\" \n",
    "  \n",
    "# Reading data from first file \n",
    "with open('file1.txt') as fp: \n",
    "    data = fp.read() \n",
    "with open('file2.txt') as fp: \n",
    "    data2 = fp.read() \n",
    "# Merging two files into one another file \n",
    "data += \"\\n\"\n",
    "data += data2 \n",
    "with open ('file3.txt', 'w') as fp: \n",
    "    fp.write(data)\n"
   ]
  },
  {
   "cell_type": "code",
   "execution_count": null,
   "id": "7b4d4cf0",
   "metadata": {},
   "outputs": [],
   "source": []
  }
 ],
 "metadata": {
  "kernelspec": {
   "display_name": "Python 3 (ipykernel)",
   "language": "python",
   "name": "python3"
  },
  "language_info": {
   "codemirror_mode": {
    "name": "ipython",
    "version": 3
   },
   "file_extension": ".py",
   "mimetype": "text/x-python",
   "name": "python",
   "nbconvert_exporter": "python",
   "pygments_lexer": "ipython3",
   "version": "3.9.7"
  }
 },
 "nbformat": 4,
 "nbformat_minor": 5
}
