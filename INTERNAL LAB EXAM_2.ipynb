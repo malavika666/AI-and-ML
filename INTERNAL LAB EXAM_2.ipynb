{
 "cells": [
  {
   "cell_type": "code",
   "execution_count": 1,
   "id": "06413c33",
   "metadata": {},
   "outputs": [
    {
     "name": "stdout",
     "output_type": "stream",
     "text": [
      "Input: \n",
      "[[0.66666667 1.        ]\n",
      " [0.33333333 0.55555556]\n",
      " [1.         0.66666667]]\n",
      "Actual Output: \n",
      "[[0.92]\n",
      " [0.86]\n",
      " [0.89]]\n",
      "Predicted Output: \n",
      " [[0.83845325]\n",
      " [0.82836026]\n",
      " [0.8366272 ]]\n"
     ]
    }
   ],
   "source": [
    "# 1)ARTIFICIAL NEURAL NETWORK (BACKPROPOGATION)\n",
    "import numpy as np\n",
    "X = np.array(([2, 9], [1, 5], [3, 6]), dtype=float)\n",
    "y = np.array(([92], [86], [89]), dtype=float)\n",
    "X = X/np.amax(X,axis=0) # maximum of X array longitudinally\n",
    "y = y/100\n",
    "\n",
    "#Sigmoid Function\n",
    "def sigmoid (x):\n",
    "    return 1/(1 + np.exp(-x))\n",
    "\n",
    "#Derivative of Sigmoid Function\n",
    "def derivatives_sigmoid(x):\n",
    "    return x * (1 - x)\n",
    "\n",
    "#Variable initialization\n",
    "epoch=7000      #Setting training iterations\n",
    "lr=0.1          #Setting learning rate\n",
    "inputlayer_neurons = 2     #number of features in data set\n",
    "hiddenlayer_neurons = 3     #number of hidden layers neurons\n",
    "output_neurons = 1     #number of neurons at output layer\n",
    "\n",
    "#weight and bias initialization\n",
    "wh=np.random.uniform(size=(inputlayer_neurons,hiddenlayer_neurons))\n",
    "bh=np.random.uniform(size=(1,hiddenlayer_neurons))\n",
    "wout=np.random.uniform(size=(hiddenlayer_neurons,output_neurons))\n",
    "bout=np.random.uniform(size=(1,output_neurons))\n",
    "\n",
    "#draws a random range of numbers uniformly of dim x*y\n",
    "for i in range(epoch):\n",
    "    hinp1=np.dot(X,wh)\n",
    "    hinp=hinp1 + bh\n",
    "    hlayer_act = sigmoid(hinp)\n",
    "    outinp1=np.dot(hlayer_act,wout)\n",
    "    outinp= outinp1+ bout\n",
    "    output = sigmoid(outinp)\n",
    "\n",
    "\n",
    "EO = y-output\n",
    "outgrad = derivatives_sigmoid(output)\n",
    "d_output = EO* outgrad\n",
    "EH = d_output.dot(wout.T)\n",
    "hiddengrad = derivatives_sigmoid(hlayer_act) #how much hidden layer wts contributed to error\n",
    "d_hiddenlayer = EH * hiddengrad\n",
    "wout += hlayer_act.T.dot(d_output) *lr # dotproduct of nextlayererror and currentlayerop\n",
    "wh += X.T.dot(d_hiddenlayer) *lr\n",
    "     #bh += np.sum(d_hiddenlayer, axis=0,keepdims=True) *lr\n",
    "print(\"Input: \\n\" + str(X))\n",
    "print(\"Actual Output: \\n\" + str(y))\n",
    "print(\"Predicted Output: \\n\",output)"
   ]
  },
  {
   "cell_type": "code",
   "execution_count": 50,
   "id": "30fba326",
   "metadata": {},
   "outputs": [
    {
     "name": "stdout",
     "output_type": "stream",
     "text": [
      "[0 0 0 0 0 0 0 1 0 1 0 0 0 0 0 0 0 0 1 0 0 1 0 1 0 1 0 0 0 0 0 0 1 0 0 0 0\n",
      " 0 0 1 0 0 0 0 1 0 0 1 0 1 1 0 0 0 1 0 0 0 0 0 0 1 0 0 0 1 0 0 0 0 1 0 0 0\n",
      " 0 0 1 0 1 1 1 1 0 0 1 1 0 1 0 0 0 1 0 0 0 0 0 0 1 1]\n"
     ]
    }
   ],
   "source": [
    "# 2)LOGISTIC REGRESSION\n",
    "import numpy as nm\n",
    "import matplotlib.pyplot as mtp\n",
    "import pandas as pd\n",
    "from sklearn.model_selection import train_test_split\n",
    "from sklearn.preprocessing import StandardScaler\n",
    "from sklearn.linear_model import LogisticRegression\n",
    "from sklearn.metrics import confusion_matrix\n",
    "from sklearn.metrics import accuracy_score\n",
    "import matplotlib.pyplot as plt\n",
    "from sklearn import metrics\n",
    "import numpy as np\n",
    "\n",
    "\n",
    "#importing datasets\n",
    "data_set= pd.read_csv('User_Data.csv')      #400 rows × 5 columns\n",
    "\n",
    "\n",
    "#Extracting Independent and dependent Variable\n",
    "x= data_set.iloc[:, [2,3]].values\n",
    "y= data_set.iloc[:, 4].values\n",
    "\n",
    "# Splitting the dataset into training and test set.\n",
    "x_train, x_test, y_train, y_test= train_test_split(x, y, test_size= 0.25, random_state=0)\n",
    "\n",
    "#feature Scaling\n",
    "st_x= StandardScaler()\n",
    "x_train1= st_x.fit_transform(x_train)\n",
    "x_test1= st_x.transform(x_test)\n",
    "\n",
    "\n",
    "#Fitting Logistic Regression to the training set\n",
    "classifier= LogisticRegression(random_state=0)\n",
    "classifier.fit(x_train1, y_train)\n",
    "LogisticRegression(C=1.0, class_weight=None, dual=False, fit_intercept=True,\n",
    "intercept_scaling=1, l1_ratio=None, max_iter=100,\n",
    "multi_class='warn', n_jobs=None, penalty='l2',\n",
    "random_state=0, solver='warn', tol=0.0001, verbose=0,\n",
    "warm_start=False)\n",
    "\n",
    "#Predicting the test set result\n",
    "y_pred= classifier.predict(x_test1)\n",
    "print(y_pred)"
   ]
  },
  {
   "cell_type": "code",
   "execution_count": 51,
   "id": "4fd2d874",
   "metadata": {},
   "outputs": [
    {
     "name": "stdout",
     "output_type": "stream",
     "text": [
      "Confusion Matrix : \n",
      " [[65  3]\n",
      " [ 8 24]]\n"
     ]
    }
   ],
   "source": [
    "#Creating the Confusion matrix\n",
    "cm= confusion_matrix(y_test, y_pred)\n",
    "print(\"Confusion Matrix : \\n\",cm)"
   ]
  },
  {
   "cell_type": "code",
   "execution_count": 52,
   "id": "c15a8883",
   "metadata": {},
   "outputs": [
    {
     "name": "stdout",
     "output_type": "stream",
     "text": [
      "Accuracy :  0.89\n"
     ]
    }
   ],
   "source": [
    "print (\"Accuracy : \", accuracy_score(y_test, y_pred))   #Accuracy  0.89"
   ]
  },
  {
   "cell_type": "code",
   "execution_count": 55,
   "id": "248f0b63",
   "metadata": {},
   "outputs": [
    {
     "name": "stdout",
     "output_type": "stream",
     "text": [
      "              precision    recall  f1-score   support\n",
      "\n",
      "           0       0.89      0.96      0.92        68\n",
      "           1       0.89      0.75      0.81        32\n",
      "\n",
      "    accuracy                           0.89       100\n",
      "   macro avg       0.89      0.85      0.87       100\n",
      "weighted avg       0.89      0.89      0.89       100\n",
      "\n"
     ]
    }
   ],
   "source": [
    "from sklearn import metrics\n",
    "import numpy as np\n",
    "\n",
    "y_pred=np.around(classifier.predict(x_test1))\n",
    "print(metrics.classification_report(y_test,y_pred))"
   ]
  },
  {
   "cell_type": "code",
   "execution_count": 56,
   "id": "e79580df",
   "metadata": {},
   "outputs": [
    {
     "data": {
      "image/png": "[encoded data removed]",
      "text/plain": [
       "<Figure size 432x288 with 1 Axes>"
      ]
     },
     "metadata": {
      "needs_background": "light"
     },
     "output_type": "display_data"
    },
    {
     "data": {
      "image/png": "[encoded data removed]",
      "text/plain": [
       "<Figure size 432x288 with 1 Axes>"
      ]
     },
     "metadata": {
      "needs_background": "light"
     },
     "output_type": "display_data"
    }
   ],
   "source": [
    "plt.title(\"Age\")\n",
    "plt.hist(data_set.Age)\n",
    "plt.show()\n",
    "plt.title(\"EstimatedSalary\")\n",
    "plt.hist(data_set.EstimatedSalary)\n",
    "plt.show()\n"
   ]
  },
  {
   "cell_type": "code",
   "execution_count": 58,
   "id": "1822bd51",
   "metadata": {},
   "outputs": [
    {
     "data": {
      "text/plain": [
       "(array([[10., 12., 16., 14., 11., 12.,  9.,  5.,  4.,  7.],\n",
       "        [ 1., 11., 12., 20.,  8., 31.,  4.,  4.,  3.,  6.]]),\n",
       " array([-1.99318916, -1.56071704, -1.12824493, -0.69577281, -0.26330069,\n",
       "         0.16917142,  0.60164354,  1.03411565,  1.46658777,  1.89905989,\n",
       "         2.331532  ]),\n",
       " <a list of 2 BarContainer objects>)"
      ]
     },
     "execution_count": 58,
     "metadata": {},
     "output_type": "execute_result"
    },
    {
     "data": {
      "image/png": "[encoded data removed]",
      "text/plain": [
       "<Figure size 432x288 with 1 Axes>"
      ]
     },
     "metadata": {
      "needs_background": "light"
     },
     "output_type": "display_data"
    }
   ],
   "source": [
    "plt.hist(x_test1)"
   ]
  },
  {
   "cell_type": "code",
   "execution_count": 60,
   "id": "38d02448",
   "metadata": {},
   "outputs": [
    {
     "data": {
      "text/plain": [
       "(array([[18., 25., 41., 42., 49., 40., 38., 18., 16., 13.],\n",
       "        [ 3., 42., 39., 46., 61., 43., 13., 21., 16., 16.]]),\n",
       " array([-1.99318916, -1.56071704, -1.12824493, -0.69577281, -0.26330069,\n",
       "         0.16917142,  0.60164354,  1.03411565,  1.46658777,  1.89905989,\n",
       "         2.331532  ]),\n",
       " <a list of 2 BarContainer objects>)"
      ]
     },
     "execution_count": 60,
     "metadata": {},
     "output_type": "execute_result"
    },
    {
     "data": {
      "image/png": "[encoded data removed]",
      "text/plain": [
       "<Figure size 432x288 with 1 Axes>"
      ]
     },
     "metadata": {
      "needs_background": "light"
     },
     "output_type": "display_data"
    }
   ],
   "source": [
    "plt.hist(x_train1)"
   ]
  },
  {
   "cell_type": "code",
   "execution_count": 61,
   "id": "167eda48",
   "metadata": {},
   "outputs": [
    {
     "data": {
      "text/plain": [
       "KNeighborsClassifier()"
      ]
     },
     "execution_count": 61,
     "metadata": {},
     "output_type": "execute_result"
    }
   ],
   "source": [
    "# 3)KNN CLASSIFIER\n",
    "# importing libraries\n",
    "import numpy as nm\n",
    "import matplotlib.pyplot as mtp\n",
    "import pandas as pd\n",
    "from sklearn.model_selection import train_test_split\n",
    "from sklearn.preprocessing import StandardScaler\n",
    "from sklearn.neighbors import KNeighborsClassifier\n",
    "from sklearn.metrics import confusion_matrix\n",
    "from sklearn.metrics import accuracy_score\n",
    "import matplotlib.pyplot as plt\n",
    "\n",
    "#importing datasets\n",
    "data_set= pd.read_csv('User_Data.csv')\n",
    "\n",
    "#Extracting Independent and dependent Variable\n",
    "x= data_set.iloc[:, [2,3]].values\n",
    "y= data_set.iloc[:, 4].values\n",
    "\n",
    "# Splitting the dataset into training and test set.\n",
    "x_train, x_test, y_train, y_test= train_test_split(x, y, test_size= 0.25, random_state=0)\n",
    "\n",
    "#feature Scaling\n",
    "st_x= StandardScaler()\n",
    "x_train1= st_x.fit_transform(x_train)\n",
    "x_test1= st_x.transform(x_test)\n",
    "\n",
    "#Fitting K-NN classifier to the training set\n",
    "classifier= KNeighborsClassifier(n_neighbors=5, metric='minkowski',p=2)\n",
    "classifier.fit(x_train1, y_train)"
   ]
  },
  {
   "cell_type": "code",
   "execution_count": 62,
   "id": "708a4eee",
   "metadata": {},
   "outputs": [
    {
     "name": "stdout",
     "output_type": "stream",
     "text": [
      "Confusion Matrix : \n",
      " [[64  4]\n",
      " [ 3 29]]\n"
     ]
    }
   ],
   "source": [
    "KNeighborsClassifier()\n",
    "#Predicting the test set result\n",
    "y_pred= classifier.predict(x_test1)\n",
    "\n",
    "#Creating the Confusion matrix\n",
    "cm= confusion_matrix(y_test, y_pred)\n",
    "print(\"Confusion Matrix : \\n\",cm)"
   ]
  },
  {
   "cell_type": "code",
   "execution_count": 63,
   "id": "fcfcbf23",
   "metadata": {},
   "outputs": [
    {
     "name": "stdout",
     "output_type": "stream",
     "text": [
      "Accuracy :  0.93\n"
     ]
    }
   ],
   "source": [
    "print (\"Accuracy : \", accuracy_score(y_test, y_pred))"
   ]
  },
  {
   "cell_type": "code",
   "execution_count": 64,
   "id": "77f56d81",
   "metadata": {},
   "outputs": [
    {
     "name": "stdout",
     "output_type": "stream",
     "text": [
      "              precision    recall  f1-score   support\n",
      "\n",
      "           0       0.96      0.94      0.95        68\n",
      "           1       0.88      0.91      0.89        32\n",
      "\n",
      "    accuracy                           0.93       100\n",
      "   macro avg       0.92      0.92      0.92       100\n",
      "weighted avg       0.93      0.93      0.93       100\n",
      "\n"
     ]
    }
   ],
   "source": [
    "from sklearn import metrics\n",
    "import numpy as np\n",
    "\n",
    "y_pred=np.around(classifier.predict(x_test1))\n",
    "print(metrics.classification_report(y_test,y_pred))"
   ]
  },
  {
   "cell_type": "code",
   "execution_count": 65,
   "id": "ff212dc6",
   "metadata": {},
   "outputs": [
    {
     "data": {
      "image/png": "[encoded data removed]",
      "text/plain": [
       "<Figure size 432x288 with 1 Axes>"
      ]
     },
     "metadata": {
      "needs_background": "light"
     },
     "output_type": "display_data"
    },
    {
     "data": {
      "image/png": "[encoded data removed]",
      "text/plain": [
       "<Figure size 432x288 with 1 Axes>"
      ]
     },
     "metadata": {
      "needs_background": "light"
     },
     "output_type": "display_data"
    }
   ],
   "source": [
    "plt.title(\"Age\")\n",
    "plt.hist(data_set.Age)\n",
    "plt.show()\n",
    "plt.title(\"EstimatedSalary\")\n",
    "plt.hist(data_set.EstimatedSalary)\n",
    "plt.show()"
   ]
  },
  {
   "cell_type": "code",
   "execution_count": 67,
   "id": "ee77d89e",
   "metadata": {},
   "outputs": [
    {
     "data": {
      "text/plain": [
       "(array([[10., 12., 16., 14., 11., 12.,  9.,  5.,  4.,  7.],\n",
       "        [ 1., 11., 12., 20.,  8., 31.,  4.,  4.,  3.,  6.]]),\n",
       " array([-1.99318916, -1.56071704, -1.12824493, -0.69577281, -0.26330069,\n",
       "         0.16917142,  0.60164354,  1.03411565,  1.46658777,  1.89905989,\n",
       "         2.331532  ]),\n",
       " <a list of 2 BarContainer objects>)"
      ]
     },
     "execution_count": 67,
     "metadata": {},
     "output_type": "execute_result"
    },
    {
     "data": {
      "image/png": "[encoded data removed]",
      "text/plain": [
       "<Figure size 432x288 with 1 Axes>"
      ]
     },
     "metadata": {
      "needs_background": "light"
     },
     "output_type": "display_data"
    }
   ],
   "source": [
    "plt.hist(x_test1)"
   ]
  },
  {
   "cell_type": "code",
   "execution_count": 68,
   "id": "efeccb3b",
   "metadata": {},
   "outputs": [
    {
     "data": {
      "text/plain": [
       "(array([[18., 25., 41., 42., 49., 40., 38., 18., 16., 13.],\n",
       "        [ 3., 42., 39., 46., 61., 43., 13., 21., 16., 16.]]),\n",
       " array([-1.99318916, -1.56071704, -1.12824493, -0.69577281, -0.26330069,\n",
       "         0.16917142,  0.60164354,  1.03411565,  1.46658777,  1.89905989,\n",
       "         2.331532  ]),\n",
       " <a list of 2 BarContainer objects>)"
      ]
     },
     "execution_count": 68,
     "metadata": {},
     "output_type": "execute_result"
    },
    {
     "data": {
      "image/png": "[encoded data removed]",
      "text/plain": [
       "<Figure size 432x288 with 1 Axes>"
      ]
     },
     "metadata": {
      "needs_background": "light"
     },
     "output_type": "display_data"
    }
   ],
   "source": [
    "plt.hist(x_train1)"
   ]
  },
  {
   "cell_type": "code",
   "execution_count": 24,
   "id": "81ae62ed",
   "metadata": {},
   "outputs": [
    {
     "name": "stdout",
     "output_type": "stream",
     "text": [
      "Accuracy of SVM classifier on training set : 0.95\n",
      "Accuracy of SVM classifier on testing set : 0.73\n"
     ]
    }
   ],
   "source": [
    "# 4)SVM CLASSIFIER\n",
    "import pandas as pd\n",
    "from sklearn.model_selection import train_test_split\n",
    "from sklearn.preprocessing import MinMaxScaler\n",
    "from sklearn.svm import SVC\n",
    "\n",
    "fruits = pd.read_table('fruit_data_with_colors.txt')\n",
    "feature_names = ['mass', 'width', 'height', 'color_score']\n",
    "X = fruits[feature_names]\n",
    "Y = fruits['fruit_label']\n",
    "\n",
    "X_train, X_test, Y_train, Y_test = train_test_split(X, Y)\n",
    "X_train = MinMaxScaler().fit_transform(X_train)\n",
    "X_test = MinMaxScaler().fit_transform(X_test)\n",
    "\n",
    "svm = SVC().fit(X_train, Y_train)\n",
    "\n",
    "print('Accuracy of SVM classifier on training set : {:.2f}'\n",
    "      .format(svm.score(X_train, Y_train)))\n",
    "print('Accuracy of SVM classifier on testing set : {:.2f}'\n",
    "      .format(svm.score(X_test, Y_test)))"
   ]
  },
  {
   "cell_type": "code",
   "execution_count": 72,
   "id": "66cfdc3f",
   "metadata": {
    "scrolled": true
   },
   "outputs": [
    {
     "name": "stdout",
     "output_type": "stream",
     "text": [
      "Accuracy of Decision Tree classifier on training set: 1.00\n",
      "Accuracy of Decision Tree classifier on test set: 0.73\n"
     ]
    }
   ],
   "source": [
    "# 5)DECISION TREEE\n",
    "import pandas as pd\n",
    "from sklearn.model_selection import train_test_split\n",
    "from sklearn.preprocessing import MinMaxScaler\n",
    "from sklearn.tree import DecisionTreeClassifier\n",
    "\n",
    "fruits = pd.read_table('fruit_data_with_colors.txt')\n",
    "feature_names = ['mass', 'width', 'height', 'color_score']   #all attributes\n",
    "\n",
    "X = fruits[feature_names]\n",
    "y = fruits['fruit_label']                                # y only label\n",
    "\n",
    "X_train, X_test, y_train, y_test = train_test_split(X, y, random_state=0)\n",
    "scaler = MinMaxScaler()\n",
    "X_train1 = scaler.fit_transform(X_train)\n",
    "X_test1 = scaler.transform(X_test)\n",
    "\n",
    "# Decision Tree classifier\n",
    "clf = DecisionTreeClassifier().fit(X_train1, y_train)\n",
    "print('Accuracy of Decision Tree classifier on training set: {:.2f}'.format(clf.score(X_train1, y_train)))\n",
    "print('Accuracy of Decision Tree classifier on test set: {:.2f}'.format(clf.score(X_test1, y_test)))"
   ]
  },
  {
   "cell_type": "code",
   "execution_count": 15,
   "id": "92353865",
   "metadata": {},
   "outputs": [
    {
     "data": {
      "image/png": "[encoded data removed]",
      "text/plain": [
       "<Figure size 432x288 with 1 Axes>"
      ]
     },
     "metadata": {
      "needs_background": "light"
     },
     "output_type": "display_data"
    }
   ],
   "source": [
    "# 6)K-MEANS CLUSTERING\n",
    "from copy import deepcopy\n",
    "import numpy as np # linear algebra\n",
    "import pandas as pd # data processing, CSV file I/O (e.g. pd.read_csv)\n",
    "from matplotlib import pyplot as plt\n",
    "\n",
    "# Set three centers, the model should predict similar results\n",
    "center_1 = np.array([1,1])\n",
    "center_2 = np.array([5,5])\n",
    "center_3 = np.array([8,1])\n",
    "\n",
    "# Generate random data and center it to the three centers\n",
    "data_1 = np.random.randn(200, 2) + center_1\n",
    "data_2 = np.random.randn(200,2) + center_2\n",
    "data_3 = np.random.randn(200,2) + center_3\n",
    "data = np.concatenate((data_1, data_2, data_3), axis = 0)\n",
    "plt.scatter(data[:,0], data[:,1], s=7)\n",
    "\n",
    "# Number of clusters\n",
    "k = 3\n",
    "\n",
    "# Number of training data\n",
    "n = data.shape[0]\n",
    "\n",
    "# Number of features in the data\n",
    "c = data.shape[1]\n",
    "\n",
    "# Generate random centers, here we use sigma and mean to ensure it represent the whole data\n",
    "mean = np.mean(data, axis = 0)\n",
    "std = np.std(data, axis = 0)\n",
    "centers = np.random.randn(k,c)*std + mean\n",
    "\n",
    "# Plot the data and the centers generated as random\n",
    "plt.scatter(data[:,0], data[:,1], s=9,color='c')\n",
    "plt.scatter(centers[:,0], centers[:,1], marker='*', c='g',s=150)\n",
    "plt.show()"
   ]
  },
  {
   "cell_type": "code",
   "execution_count": null,
   "id": "d574b2df",
   "metadata": {},
   "outputs": [],
   "source": []
  }
 ],
 "metadata": {
  "kernelspec": {
   "display_name": "Python 3 (ipykernel)",
   "language": "python",
   "name": "python3"
  },
  "language_info": {
   "codemirror_mode": {
    "name": "ipython",
    "version": 3
   },
   "file_extension": ".py",
   "mimetype": "text/x-python",
   "name": "python",
   "nbconvert_exporter": "python",
   "pygments_lexer": "ipython3",
   "version": "3.9.7"
  }
 },
 "nbformat": 4,
 "nbformat_minor": 5
}
